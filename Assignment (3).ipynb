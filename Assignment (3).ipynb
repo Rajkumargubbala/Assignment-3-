{
 "cells": [
  {
   "cell_type": "code",
   "execution_count": 3,
   "id": "6b495e42",
   "metadata": {},
   "outputs": [
    {
     "name": "stdout",
     "output_type": "stream",
     "text": [
      "01245"
     ]
    }
   ],
   "source": [
    "# 1) Write a Python program that prints all the numbers from  0 to 6 except 3 and 6\n",
    "\n",
    "\n",
    "for x in range(7):\n",
    "    if (x == 3 or x==6):\n",
    "        continue\n",
    "    print(x,end='')"
   ]
  },
  {
   "cell_type": "code",
   "execution_count": 6,
   "id": "c4ad1cd7",
   "metadata": {},
   "outputs": [
    {
     "name": "stdout",
     "output_type": "stream",
     "text": [
      "01245"
     ]
    }
   ],
   "source": [
    "x=0\n",
    "while x<7:\n",
    "    print(x,end=\"\")\n",
    "    x+=1\n",
    "    if (x == 3 or x==6):\n",
    "        x+=1"
   ]
  },
  {
   "cell_type": "code",
   "execution_count": 15,
   "id": "750c55b7",
   "metadata": {},
   "outputs": [
    {
     "name": "stdout",
     "output_type": "stream",
     "text": [
      "Enter a number: 9\n",
      "The sum of all numbers from 1 to the given number is:  45\n"
     ]
    }
   ],
   "source": [
    "# 2) Write a program to accept a number from a user and calculate the sum of all numbers from 1 to a given number\n",
    "\n",
    "\n",
    "x= int(input(\"Enter a number: \"))\n",
    "y=0\n",
    "for n in range(x+1):\n",
    "    y+=n\n",
    "print(\"The sum of all numbers from 1 to the given number is: \",y)"
   ]
  },
  {
   "cell_type": "code",
   "execution_count": 5,
   "id": "e0c09ce1",
   "metadata": {},
   "outputs": [
    {
     "name": "stdout",
     "output_type": "stream",
     "text": [
      "Enter a number: 10\n",
      "The sum of all numbers from 1 to the given number is:  55\n"
     ]
    }
   ],
   "source": [
    "x=int(input(\"Enter a number: \"))\n",
    "total_numbers=x\n",
    "y=0\n",
    "while x>= 0:\n",
    "    y+=x\n",
    "    x-=1\n",
    "print(\"The sum of all numbers from 1 to the given number is: \",y)"
   ]
  },
  {
   "cell_type": "code",
   "execution_count": 2,
   "id": "8632c3a7",
   "metadata": {},
   "outputs": [
    {
     "name": "stdout",
     "output_type": "stream",
     "text": [
      "5*0=0\n",
      "5*1=5\n",
      "5*2=10\n",
      "5*3=15\n",
      "5*4=20\n",
      "5*5=25\n",
      "5*6=30\n",
      "5*7=35\n",
      "5*8=40\n",
      "5*9=45\n",
      "5*10=50\n"
     ]
    }
   ],
   "source": [
    "# 3) Write a program to print multiplication table of a given number(input)\n",
    "\n",
    "\n",
    "def mul(x,y):\n",
    "    for n in range(0,y+1):\n",
    "        z=x*n\n",
    "        print(\"{}*{}={}\".format(x,n,z))\n",
    "mul(5,10)"
   ]
  },
  {
   "cell_type": "code",
   "execution_count": 6,
   "id": "28ff7fc1",
   "metadata": {},
   "outputs": [
    {
     "name": "stdout",
     "output_type": "stream",
     "text": [
      "enter num1 : 5\n",
      "enter num2 : 10\n",
      "5*1=5\n",
      "5*2=10\n",
      "5*3=15\n",
      "5*4=20\n",
      "5*5=25\n",
      "5*6=30\n",
      "5*7=35\n",
      "5*8=40\n",
      "5*9=45\n",
      "5*10=50\n"
     ]
    }
   ],
   "source": [
    "x=int(input(\"enter num1 : \"))\n",
    "y=int(input(\"enter num2 : \"))\n",
    "z=1\n",
    "while z<=y:\n",
    "    r=x*z\n",
    "    print(\"{}*{}={}\".format(x,z,r))\n",
    "    z+=1"
   ]
  },
  {
   "cell_type": "code",
   "execution_count": 3,
   "id": "5770462e",
   "metadata": {},
   "outputs": [
    {
     "name": "stdout",
     "output_type": "stream",
     "text": [
      "enter number : 98776567564534567877\n",
      "Length of 98776567564534567877 is : 20\n"
     ]
    }
   ],
   "source": [
    "# 4) Write a program to count the total number of digits in a number using a while loop.\n",
    "#    For example, the number is 75869, so the output should be 5.\n",
    "\n",
    "num=input(\"enter number : \")\n",
    "a=0\n",
    "for i in num:\n",
    "    a+=1\n",
    "print(\"Length of {} is : {}\".format(num,a)) "
   ]
  },
  {
   "cell_type": "code",
   "execution_count": 2,
   "id": "4559d603",
   "metadata": {},
   "outputs": [
    {
     "name": "stdout",
     "output_type": "stream",
     "text": [
      "enter number : 890768576546354335467789\n",
      "Length of 890768576546354335467789 is : 24\n"
     ]
    }
   ],
   "source": [
    "num=input(\"enter number : \")\n",
    "x=True\n",
    "a=0\n",
    "while x:\n",
    "    for i in num:\n",
    "        a+=1\n",
    "    x=False\n",
    "print(\"Length of {} is : {}\".format(num,a))"
   ]
  },
  {
   "cell_type": "code",
   "execution_count": 2,
   "id": "d872e358",
   "metadata": {},
   "outputs": [
    {
     "name": "stdout",
     "output_type": "stream",
     "text": [
      "enter number : 1\n",
      "Good Guess\n"
     ]
    }
   ],
   "source": [
    "# 5) Write a Python program to guess a number between 1 to 6\n",
    "#     Example:\n",
    "#     User is prompted to enter a guess. If the user guesses wrong then the prompt appears again until the guess is correct, on successful guess, user will get a \"Well guessed!\" message, and the program will exit.\n",
    "\n",
    "\n",
    "num=int(input(\"enter number : \"))\n",
    "from random import shuffle\n",
    "x=[1,2,3,4,5,6]\n",
    "shuffle(x)\n",
    "for i in x:\n",
    "    if x[0]==num:\n",
    "        print(\"Good Guess\")\n",
    "        break\n",
    "    else:\n",
    "        num=int(input(\"enter number : \"))\n",
    "        continue"
   ]
  },
  {
   "cell_type": "markdown",
   "id": "2b7917f2",
   "metadata": {},
   "source": []
  },
  {
   "cell_type": "code",
   "execution_count": 1,
   "id": "b5b843e7",
   "metadata": {},
   "outputs": [
    {
     "name": "stdout",
     "output_type": "stream",
     "text": [
      "enter number : 1\n",
      "enter number : 2\n",
      "enter number : 3\n",
      "enter number : 4\n",
      "enter number : 5\n",
      "enter number : 6\n",
      "Good guess!\n"
     ]
    }
   ],
   "source": [
    "num=int(input(\"enter number : \"))\n",
    "from random import shuffle\n",
    "dice=[1,2,3,4,5,6]\n",
    "shuffle(dice)\n",
    "x=True\n",
    "while x:\n",
    "    if dice[0]==num:\n",
    "        print(\"Good guess!\")\n",
    "        x=False\n",
    "    else:\n",
    "        num=int(input(\"enter number : \"))\n",
    "        continue"
   ]
  },
  {
   "cell_type": "code",
   "execution_count": 7,
   "id": "1cfc57f6",
   "metadata": {},
   "outputs": [
    {
     "name": "stdout",
     "output_type": "stream",
     "text": [
      "[1, 2, 'Fizz', 4, 'Buzz', 'Fizz', 7, 8, 'Fizz', 'Buzz', 11, 'Fizz', 13, 14, 'FizzBuzz', 16, 17, 'Fizz', 19, 'Buzz', 'Fizz', 22, 23, 'Fizz', 'Buzz', 26, 'Fizz', 28, 29, 'FizzBuzz', 31, 32, 'Fizz', 34, 'Buzz', 'Fizz', 37, 38, 'Fizz', 'Buzz', 41, 'Fizz', 43, 44, 'FizzBuzz', 46, 47, 'Fizz', 49, 'Buzz', 'Fizz', 52, 53, 'Fizz', 'Buzz', 56, 'Fizz', 58, 59, 'FizzBuzz']\n"
     ]
    }
   ],
   "source": [
    "# 6) Write a Python program which iterates the integers from 1 to 60. For multiples of three print \"Fizz\" instead of the\n",
    "#    number and for the multiples of five print \"Buzz\". For numbers which are multiples of both three and five print \"FizzBuzz\".\n",
    "\n",
    "\n",
    "a=[]\n",
    "for num in range(1,61):\n",
    "    if num%3==0 and num%5==0:\n",
    "        a.append(\"FizzBuzz\")\n",
    "    elif num%3==0:\n",
    "        a.append(\"Fizz\")\n",
    "    elif num%5==0:\n",
    "        a.append(\"Buzz\")\n",
    "    else:\n",
    "        a.append(num)\n",
    "print(a)"
   ]
  },
  {
   "cell_type": "code",
   "execution_count": 8,
   "id": "72bb50d1",
   "metadata": {},
   "outputs": [
    {
     "name": "stdout",
     "output_type": "stream",
     "text": [
      "[1, 2, 'Fizz', 4, 'Buzz', 'Fizz', 7, 8, 'Fizz', 'Buzz', 11, 'Fizz', 13, 14, 'FizzBuzz', 16, 17, 'Fizz', 19, 'Buzz', 'Fizz', 22, 23, 'Fizz', 'Buzz', 26, 'Fizz', 28, 29, 'FizzBuzz', 31, 32, 'Fizz', 34, 'Buzz', 'Fizz', 37, 38, 'Fizz', 'Buzz', 41, 'Fizz', 43, 44, 'FizzBuzz', 46, 47, 'Fizz', 49, 'Buzz', 'Fizz', 52, 53, 'Fizz', 'Buzz', 56, 'Fizz', 58, 59, 'FizzBuzz']\n"
     ]
    }
   ],
   "source": [
    "x=True\n",
    "a=[]\n",
    "while x:\n",
    "    for num in range(1,61):\n",
    "        if num%3==0 and num%5==0:\n",
    "            a.append(\"FizzBuzz\")\n",
    "        elif num%3==0:\n",
    "            a.append(\"Fizz\")\n",
    "        elif num%5==0:\n",
    "            a.append(\"Buzz\")\n",
    "        else:\n",
    "            a.append(num)\n",
    "    x=False\n",
    "print(a)"
   ]
  },
  {
   "cell_type": "code",
   "execution_count": 1,
   "id": "2c77acb5",
   "metadata": {},
   "outputs": [
    {
     "name": "stdout",
     "output_type": "stream",
     "text": [
      "enter input : Python 3.2\n",
      "Digits in Python 3.2 : 2\n",
      "Letters in Python 3.2 : 6\n"
     ]
    }
   ],
   "source": [
    "# 7) Write a Python program that accepts a string and calculate the number of digits and letters\n",
    "#   Example:Input Python 3.2 \n",
    "#           Output Letters 6 Digits 2\n",
    "\n",
    "\n",
    "string=input(\"enter input : \")\n",
    "digit=0\n",
    "letters=0\n",
    "for elements in string:\n",
    "    if elements.isdigit():\n",
    "        digit+=1\n",
    "    elif elements.isalpha():\n",
    "        letters+=1\n",
    "print(\"Digits in {} : {}\".format(string,digit))\n",
    "print(\"Letters in {} : {}\".format(string,letters))"
   ]
  },
  {
   "cell_type": "code",
   "execution_count": 2,
   "id": "548e1694",
   "metadata": {},
   "outputs": [
    {
     "name": "stdout",
     "output_type": "stream",
     "text": [
      "Type your input here : Python 3.2\n",
      "Digits in Python 3.2 : 2\n",
      "Letters in Python 3.2 : 6\n"
     ]
    }
   ],
   "source": [
    "string=input(\"Type your input here : \")\n",
    "digit=0\n",
    "letters=0\n",
    "x=True\n",
    "while x:\n",
    "    for elements in string:\n",
    "        if elements.isdigit():\n",
    "            digit+=1\n",
    "        elif elements.isalpha():\n",
    "            letters+=1\n",
    "    x=False\n",
    "print(\"Digits in {} : {}\".format(string,digit))\n",
    "print(\"Letters in {} : {}\".format(string,letters))"
   ]
  },
  {
   "cell_type": "code",
   "execution_count": 1,
   "id": "605fbc8e",
   "metadata": {},
   "outputs": [
    {
     "name": "stdout",
     "output_type": "stream",
     "text": [
      "Raj8128@\n",
      "OK\n",
      "You have given valid Password.\n"
     ]
    }
   ],
   "source": [
    "# 8) Write a Python program to check the validity of password input by users. \n",
    "#    Validation: At least 1 letter between [a-z] and 1 letter between [A-Z]. \n",
    "#    At least 1 number between [0-9]. \n",
    "#    At least 1 character from [$#@].\n",
    "#    Minimum length 6 characters.\n",
    "#    Maximum length 16 characters.\n",
    "\n",
    "\n",
    "password=input()\n",
    "lowercase=0\n",
    "uppercase=0\n",
    "num=0\n",
    "sym=0\n",
    "symbol=[\"@\",\"$\",\"#\"]\n",
    "for elements in password:\n",
    "    if elements.isalpha():\n",
    "        if elements==elements.upper():\n",
    "            uppercase+=1\n",
    "        elif elements==elements.lower():\n",
    "            lowercase+=1\n",
    "    elif elements in symbol:\n",
    "        sym+=1\n",
    "    elif int(elements) in range(0,10):\n",
    "        num+=1\n",
    "if len(password)<6:\n",
    "    print(\"Your Password must contain atleast 6 charecters\")\n",
    "elif len(password)>16:\n",
    "    print(\"Your Password length is greater than limits, Please reduce some charecters\")\n",
    "elif num==0:\n",
    "    print(\"Please include numbers inside your password\")\n",
    "elif uppercase==0:\n",
    "    print(\"Please include upperr case letters inside your password\")\n",
    "elif lowercase==0:\n",
    "    print(\"Please include lower case letters inside your password\")\n",
    "else:\n",
    "    print(\"OK\\nYou have given valid Password.\")"
   ]
  },
  {
   "cell_type": "code",
   "execution_count": 2,
   "id": "c74aabce",
   "metadata": {},
   "outputs": [
    {
     "name": "stdout",
     "output_type": "stream",
     "text": [
      "Enter : \n",
      "rajkumar\n",
      "ramukjar \n"
     ]
    }
   ],
   "source": [
    "# 9) Write a program in Python to reverse a word by using while loop\n",
    "\n",
    "\n",
    "print(\"Enter : \")\n",
    "word=input()\n",
    "length=len(word)\n",
    "reverse=\"\"\n",
    "while length > 0:\n",
    "    reverse+=word[length-1]\n",
    "    length=length-1\n",
    "print(\"{} \".format(reverse))"
   ]
  },
  {
   "cell_type": "code",
   "execution_count": 1,
   "id": "6866323c",
   "metadata": {},
   "outputs": [
    {
     "name": "stdout",
     "output_type": "stream",
     "text": [
      "enter 10 values to findout their average :\n",
      "1\n",
      "2\n",
      "3\n",
      "4\n",
      "5\n",
      "6\n",
      "7\n",
      "8\n",
      "9\n",
      "4\n",
      "The average of given numbers = 4.9\n"
     ]
    }
   ],
   "source": [
    "# 10) Write a program which takes 10 integers as input using loop and print their average value on the screen\n",
    "\n",
    "\n",
    "print(\"enter 10 values to findout their average :\")\n",
    "a=[]\n",
    "x=True\n",
    "while x:\n",
    "    num=int(input())\n",
    "    a.append(num)\n",
    "    if len(a)==10:\n",
    "        x=False\n",
    "    else:\n",
    "        continue\n",
    "total=sum(a)\n",
    "print(\"The average of given numbers = {}\".format(total/len(a)))"
   ]
  },
  {
   "cell_type": "code",
   "execution_count": 2,
   "id": "a5d116d7",
   "metadata": {},
   "outputs": [
    {
     "name": "stdout",
     "output_type": "stream",
     "text": [
      "Please enter 10 values to findout their average :\n",
      "1\n",
      "2\n",
      "3\n",
      "4\n",
      "5\n",
      "6\n",
      "7\n",
      "8\n",
      "9\n",
      "8\n",
      "The average of given numbers = 5.3\n"
     ]
    }
   ],
   "source": [
    "print(\"Please enter 10 values to findout their average :\")\n",
    "a=[]\n",
    "for i in range(0,10):\n",
    "    num=int(input())\n",
    "    a.append(num)\n",
    "total=sum(a)\n",
    "print(\"The average of given numbers = {}\".format(total/len(a)))"
   ]
  },
  {
   "cell_type": "code",
   "execution_count": 1,
   "id": "b6c22056",
   "metadata": {},
   "outputs": [
    {
     "name": "stdout",
     "output_type": "stream",
     "text": [
      "enter numbers in the provided boxes findout their average and the product :\n",
      "give a number : 44\n",
      "if you want to exit press - q\n",
      "give a number : 54\n",
      "if you want to exit press - q\n",
      "give a number : 64\n",
      "if you want to exit press - q\n",
      "give a number : 74\n",
      "if you want to exit press - q\n",
      "give a number : q\n",
      "\n",
      "Product = 11252736\n",
      "Average = 59.0\n"
     ]
    }
   ],
   "source": [
    "# 11) Write a program which takes integer inputs from user until he/she presses “q” (Ask to press q to quit after every integer input). Print average and product of all numbers.\n",
    "\n",
    "\n",
    "print(\"enter numbers in the provided boxes findout their average and the product :\")\n",
    "numbers=[]\n",
    "newnum=[]\n",
    "product=1\n",
    "while True:\n",
    "    num=input(\"give a number : \")\n",
    "    if num==\"q\":\n",
    "        break\n",
    "    print(\"if you want to exit press - q\")\n",
    "    numbers.append(num)\n",
    "for j in numbers:\n",
    "    a=int(j)\n",
    "    newnum.append(a)\n",
    "for i in newnum:\n",
    "    product=product*i\n",
    "total=sum(newnum)\n",
    "average=total/len(newnum)\n",
    "print(\"\\nProduct = {}\".format(product))\n",
    "print(\"Average = {}\".format(average))"
   ]
  },
  {
   "cell_type": "code",
   "execution_count": 2,
   "id": "0ece0a83",
   "metadata": {},
   "outputs": [
    {
     "name": "stdout",
     "output_type": "stream",
     "text": [
      "Type your input here : 31jbwjfbwh.,133\n",
      "jbwjfbwh\n"
     ]
    }
   ],
   "source": [
    "# 12) Write a Python program which will remove all digits or any other characters from the string except alphabets\n",
    "\n",
    "\n",
    "name=input(\"Type your input here : \")\n",
    "new=\"\"\n",
    "for letters in name:\n",
    "    if letters.isalpha():\n",
    "        new+=letters\n",
    "    else:\n",
    "        continue\n",
    "print(new)"
   ]
  },
  {
   "cell_type": "code",
   "execution_count": 3,
   "id": "d168e0f0",
   "metadata": {},
   "outputs": [
    {
     "name": "stdout",
     "output_type": "stream",
     "text": [
      "Type your input here : ihiqehu.,81fhjbfj\n",
      "ihiqehufhjbfj\n"
     ]
    }
   ],
   "source": [
    "name=input(\"Type your input here : \")\n",
    "new=\"\"\n",
    "x=True\n",
    "while x:\n",
    "    for letters in name:\n",
    "        if letters.isalpha():\n",
    "            new+=letters\n",
    "        else:\n",
    "            continue\n",
    "    x=False\n",
    "print(new)"
   ]
  },
  {
   "cell_type": "code",
   "execution_count": 4,
   "id": "33a12684",
   "metadata": {},
   "outputs": [
    {
     "name": "stdout",
     "output_type": "stream",
     "text": [
      "Sum of all even numbers from 0 to 10 are :-. 30\n"
     ]
    }
   ],
   "source": [
    "# 13) Write a python program to find the sum of all even numbers from 0 to 10\n",
    "\n",
    "\n",
    "total=0\n",
    "for num in range(0,11):\n",
    "    if num%2==0:\n",
    "        total+=num\n",
    "print(\"Sum of all even numbers from 0 to 10 are :-. {}\".format(total))"
   ]
  },
  {
   "cell_type": "code",
   "execution_count": 5,
   "id": "dff5756c",
   "metadata": {},
   "outputs": [
    {
     "name": "stdout",
     "output_type": "stream",
     "text": [
      "Sum of all even numbers from 0 to 10 are :-. 30\n"
     ]
    }
   ],
   "source": [
    "total=0\n",
    "x=True\n",
    "while x:\n",
    "    for num in range(0,11):\n",
    "        if num%2==0:\n",
    "            total+=num\n",
    "    x=False\n",
    "print(\"Sum of all even numbers from 0 to 10 are :-. {}\".format(total))"
   ]
  },
  {
   "cell_type": "code",
   "execution_count": 6,
   "id": "4a21afb7",
   "metadata": {},
   "outputs": [
    {
     "name": "stdout",
     "output_type": "stream",
     "text": [
      "Enter a number, so that you can get all the numbers which are before it till zero.\n",
      "Provide a number : 6\n",
      "6\n",
      "5\n",
      "4\n",
      "3\n",
      "2\n",
      "1\n",
      "0\n"
     ]
    }
   ],
   "source": [
    "# 14) Write a python program which will accept a digit and print All the numbers before it till 0\n",
    "\n",
    "\n",
    "print(\"Enter a number, so that you can get all the numbers which are before it till zero.\")\n",
    "number=int(input(\"Provide a number : \"))\n",
    "\n",
    "while number>=0:\n",
    "    print(number)\n",
    "    number-=1"
   ]
  },
  {
   "cell_type": "code",
   "execution_count": 7,
   "id": "bcd4a1e0",
   "metadata": {},
   "outputs": [
    {
     "name": "stdout",
     "output_type": "stream",
     "text": [
      "num 1 : 3\n",
      "choose any symbol from +,-,*,/ : *\n",
      "num 2 : 4\n",
      "3 * 4 = 12\n",
      "Press c to close : c\n"
     ]
    }
   ],
   "source": [
    "# 15) Create a dynamic calculator which will run continuasly till you press “c”\n",
    "\n",
    "\n",
    "a=int(input(\"num 1 : \"))\n",
    "x=input(\"choose any symbol from +,-,*,/ : \")\n",
    "b=int(input(\"num 2 : \"))\n",
    "while True:\n",
    "    if x==\"+\":\n",
    "        print(\"{} {} {} = {}\".format(a,x,b,a+b))\n",
    "    elif x==\"-\":\n",
    "        print(\"{} {} {} = {}\".format(a,x,b,a-b))\n",
    "    elif x==\"*\":\n",
    "        print(\"{} {} {} = {}\".format(a,x,b,a*b))\n",
    "    elif x==\"/\":\n",
    "        print(\"{} {} {} = {}\".format(a,x,b,a/b))\n",
    "    new=input(\"Press c to close : \")\n",
    "    if new==\"c\" or new==\"C\":\n",
    "        break"
   ]
  },
  {
   "cell_type": "code",
   "execution_count": null,
   "id": "61543fb2",
   "metadata": {},
   "outputs": [],
   "source": []
  }
 ],
 "metadata": {
  "kernelspec": {
   "display_name": "Python 3 (ipykernel)",
   "language": "python",
   "name": "python3"
  },
  "language_info": {
   "codemirror_mode": {
    "name": "ipython",
    "version": 3
   },
   "file_extension": ".py",
   "mimetype": "text/x-python",
   "name": "python",
   "nbconvert_exporter": "python",
   "pygments_lexer": "ipython3",
   "version": "3.9.7"
  }
 },
 "nbformat": 4,
 "nbformat_minor": 5
}
